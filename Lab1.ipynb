{
 "cells": [
  {
   "cell_type": "markdown",
   "metadata": {
    "nteract": {
     "transient": {
      "deleting": false
     }
    }
   },
   "source": [
    "# Inspection Introduction\n",
    "\n",
    "For this assignment, provide a description of your MyBio code. Describe where you put the string constants and why you think they go there. Notice, in my example, that I put all of the string constants in the main part of the program, not in the class. Why might that be a useful way to design this simple program?"
   ]
  },
  {
   "cell_type": "markdown",
   "metadata": {},
   "source": [
    "###### Deliverables:  30 total points\n",
    "  - helloMe 4 points\n",
    "  - helloAgain 5 points\n",
    "  - myBio 6 points\n",
    "  - countAT-bugsSoln 9 points\n",
    "  - countNucleotides 6 points\n",
    "     \n",
    "## Due: Monday April 10, 2023 11:55pm \n",
    "## Lab 1 – Introduction to Python (30 points)\n",
    "Work in small groups. Find youself a team who you will hopefully work with throughout the quarter.\n",
    "Although you are required to turn in independent code and answers yourself, you are encouraged to ask questions and work with each other to solve these exercises. Programming has a lot of area-specific vocabulary and concepts so it is often extremely helpful to ask for help when you run up against hurdles. Make sure to include your partners name(s) as a comment in the first few lines of your program, like this:"
   ]
  },
  {
   "cell_type": "code",
   "execution_count": 1,
   "metadata": {
    "execution": {
     "iopub.execute_input": "2021-12-28T03:08:32.097Z",
     "iopub.status.busy": "2021-12-28T03:08:32.091Z",
     "iopub.status.idle": "2021-12-28T03:08:32.111Z",
     "shell.execute_reply": "2021-12-28T03:08:32.118Z"
    }
   },
   "outputs": [],
   "source": [
    "#!/usr/bin/env python3 \n",
    "# Name: Marco Lanza\n",
    "# Group Members: Adrian Flores (aflor115), Noah Kirsch (nkirsch), Chris"
   ]
  },
  {
   "cell_type": "markdown",
   "metadata": {},
   "source": [
    "## Setup your workspace\n",
    "### Install Anaconda on your machine\n",
    "From the machine that you intend to do all of your work for BME 160, go to: https://www.anaconda.com/products/individual/\n",
    "From that page, select the Python 3.10 version by using the download button. This may take awhile, depending on your internet connection speed.\n",
    "\n",
    "### Downloading your first notebook\n",
    "The document you are now reading is a jupyter notebook. It is available for download using our class website service Canvas. \n",
    "First we will need to create a folder that you’ll use for this lab. To do this create a folder called bme160 on the desktop.\n",
    "From Canvas :: files :: jupyter, download Lab01.ipynb, and place it into your bme160 folder.\n",
    "\n",
    "There are five programs you will need to write. They are all embedded in Lab01.ipynb as jupyter \"cells\". Make sure to place Lab01.ipynb into your Lab01 folder.\n",
    "### Accessing Jupyter\n",
    "####  Open jupyter\n",
    "\n",
    "There are a number of ways to startup jupyter. Here are a few:\n",
    " -  LocalHost  Open _terminal_ ( located in the utilities folder on MacOS ), then change to the Lab01 directory and startup: jupyter notebook\n",
    " - https://try.jupyter.org you will then need to upload Lab 01.ipynb to that remote server. This server enforces a 10-minute inactivity limit, so you will need to save your work often. Note that this remote server sometimes doesnt run.\n",
    " - Anaconda Navigator. Startup Anaconda, then select: jupyter notebook. From Jupyter, you can then navigate to your Desktop, then to bme160, and then open Lab01.ipynb. That should bring you to a page that looks just like the Lab01 assignment.\n",
    "\n",
    "Try out __jupyter__ by selecting the following cell, then push the \"run\" button in the toolbar above, or pull down the _Cell_ menu above and select Run Cells. Notice that cells that contain runable code start with In [ ]: "
   ]
  },
  {
   "cell_type": "code",
   "execution_count": 2,
   "metadata": {},
   "outputs": [
    {
     "name": "stdout",
     "output_type": "stream",
     "text": [
      "hello Sally\n"
     ]
    }
   ],
   "source": [
    "print ('hello Sally')"
   ]
  },
  {
   "cell_type": "markdown",
   "metadata": {},
   "source": [
    "make sure that “hello” is returned.\n",
    "\n",
    "From here on, you will be writing programs. \n",
    "## First python program\n",
    "The hello.py program is one of the first python programs that people write.\n",
    "\n",
    "Documenting code is an important and often overlooked process in software engineering. Don’t fall into the trap of not adding comments to your code! Note, you will not receive full credit on your assignment if your code is not clearly documented. To add comments you use the ’#’ character for single line comments, or you can use triple-quotes (“””) to begin a block of comments and then add another set of triple-quotes to end that block comment.\n",
    "\n",
    "To get an idea of what documenting and comments look like, here is an old-school version of the ’hello.py’ program,  documented:"
   ]
  },
  {
   "cell_type": "code",
   "execution_count": 10,
   "metadata": {},
   "outputs": [
    {
     "name": "stdout",
     "output_type": "stream",
     "text": [
      "Hello World\n"
     ]
    }
   ],
   "source": [
    "#!/usr/bin/env python3\n",
    "# Name: Marco Lanza (mnlanza)\n",
    "# Group Members: Adrian Flores (aflor115), Noah Kirsch (nkirsch), Chris\n",
    "\n",
    "\"\"\"\n",
    "Print out the string Hello World when run.\n",
    "\"\"\"\n",
    "# remember that strings in python use either single (') or double (\") quotes.\n",
    "print (\"Hello World\") "
   ]
  },
  {
   "cell_type": "markdown",
   "metadata": {},
   "source": [
    "Add your own similar-looking documentation and comments to the the following code, customizing it for yourself, and lets make it print: Hello __your name__ instead. In my case, it would print \"Hello David\""
   ]
  },
  {
   "cell_type": "markdown",
   "metadata": {},
   "source": [
    "## helloMe"
   ]
  },
  {
   "cell_type": "code",
   "execution_count": 42,
   "metadata": {},
   "outputs": [
    {
     "name": "stdout",
     "output_type": "stream",
     "text": [
      "Hello Marco\n",
      "bark bark\n"
     ]
    }
   ],
   "source": [
    "#!/usr/bin/env python3\n",
    "# Name: Marco Lanza (mnlanza)\n",
    "# Group Members: Adrian Flores (aflor115), Noah Kirsch (nkirsch), Chris\n",
    "\n",
    "\n",
    "\"\"\"\n",
    "This program prints out the most common statement in computer programming, Hello World.\n",
    "\"\"\" \n",
    "\n",
    "''' this is a single line docstring '''\n",
    "class Announcer (str): # Announcer is now defined as a kind of python string.\n",
    "    def printMe (self):\n",
    "        print (self)\n",
    "\n",
    "student = Announcer ('Hello Marco') # Create an instance of Announcer with the value 'Hello Marco'.\n",
    "dog = Announcer ('bark bark') # Create another instance of Announcer with the value 'bark bark'.\n",
    "student.printMe() #Call the `printMe` method on the `student` object to print \"Hello Marco\"\n",
    "dog.printMe() # Call the `printMe` method on the `dog` object to print \"bark bark\".\n"
   ]
  },
  {
   "cell_type": "markdown",
   "metadata": {},
   "source": [
    "There are a few things to mention about this style of coding. Classes are templates for _objects_. The _announcer_ class is a kind of _string_ class, and we tell python that by including (str) after the name of the class. We have added a method ( printme) to the announcer class, and that method allows objects of class announcer to _print_ themselves. In python, we access data that is saved in an object using the word _self_. Since objects of this class are strings, _self_ refers to the data ('Hello David' in this case). You will notice that python methods are defined using the keyword: def _name_ ( self, parameters)\n",
    "\n",
    "The line: _student = announcer ('Hello David')_ creates a new name (student), of class _announcer_ and it is given a parameter _'Hello David'_. That parameter is given to announcer as its data. Objects of class announcer refer to that data using the name _self_. \n",
    "\n",
    "The line: _student.printme()_ sends a printme() message to the student object, and the student object then prints out its data."
   ]
  },
  {
   "cell_type": "markdown",
   "metadata": {},
   "source": [
    "## Return of “Hello World”\n",
    "We will now take a look at a more sophisticated, second person version of _helloMe_. \n",
    "As currently written, it should ask you to enter a name; you type in the name and then press the _enter_ key (maybe labelled return).\n",
    "\n",
    "The output you should see is:\n",
    "\n",
    "Hi there, I am _name_\n",
    "\n",
    "Look at _helloAgain_ below. You’ll notice that it’s more complex and longer than _helloMe_. \n",
    "Now modify _helloAgain_ so that, in addition to asking for that person’s name, the program also prompts the user for their favorite pet like this:\n",
    "\n",
    "“What is your favorite pet? :”\n",
    "\n",
    "To make this clearer, here are a few lines that belong in your revised _helloAgain_."
   ]
  },
  {
   "cell_type": "code",
   "execution_count": 14,
   "metadata": {},
   "outputs": [
    {
     "name": "stdin",
     "output_type": "stream",
     "text": [
      "What is your name? :  Marco\n",
      "What is your favorite kind of pet? :  Dogs\n"
     ]
    },
    {
     "ename": "NameError",
     "evalue": "name 'person' is not defined",
     "output_type": "error",
     "traceback": [
      "\u001b[0;31m---------------------------------------------------------------------------\u001b[0m",
      "\u001b[0;31mNameError\u001b[0m                                 Traceback (most recent call last)",
      "Cell \u001b[0;32mIn[14], line 3\u001b[0m\n\u001b[1;32m      1\u001b[0m name \u001b[38;5;241m=\u001b[39m \u001b[38;5;28minput\u001b[39m( \u001b[38;5;124m\"\u001b[39m\u001b[38;5;124mWhat is your name? : \u001b[39m\u001b[38;5;124m\"\u001b[39m )\n\u001b[1;32m      2\u001b[0m pet \u001b[38;5;241m=\u001b[39m \u001b[38;5;28minput\u001b[39m( \u001b[38;5;124m\"\u001b[39m\u001b[38;5;124mWhat is your favorite kind of pet? : \u001b[39m\u001b[38;5;124m\"\u001b[39m)\n\u001b[0;32m----> 3\u001b[0m newPerson \u001b[38;5;241m=\u001b[39m person (name, pet)\n\u001b[1;32m      4\u001b[0m newPerson\u001b[38;5;241m.\u001b[39mintroduce()\n",
      "\u001b[0;31mNameError\u001b[0m: name 'person' is not defined"
     ]
    }
   ],
   "source": [
    "name = input( \"What is your name? : \" )\n",
    "pet = input( \"What is your favorite kind of pet? : \")\n",
    "newPerson = person (name, pet)\n",
    "newPerson.introduce()"
   ]
  },
  {
   "cell_type": "markdown",
   "metadata": {},
   "source": [
    "### helloAgain"
   ]
  },
  {
   "cell_type": "code",
   "execution_count": 44,
   "metadata": {
    "scrolled": true
   },
   "outputs": [
    {
     "name": "stdin",
     "output_type": "stream",
     "text": [
      "What is your name? :  Noah\n",
      "What is your favorite kind of pet? :  Collie\n"
     ]
    },
    {
     "name": "stdout",
     "output_type": "stream",
     "text": [
      "Hi there, I am Noah and I like Collies!\n"
     ]
    }
   ],
   "source": [
    "#!/usr/bin/env python3\n",
    "# Name: Marco Lanza (mnlanza)\n",
    "# Group Members: Adrian Flores (aflor115), Noah Kirsch (nkirsch), Chris\n",
    "\n",
    "\n",
    "\"\"\"\n",
    "Build a Person object and have it introduce itself.\n",
    "\n",
    "input: a string of arbitrary length, which is used to name the new person object\n",
    "output: greeting printed to screen\n",
    "\"\"\"\n",
    "\n",
    "class Person: #instantiates a class called person that has the following functions\n",
    "    def __init__(self,name,pet):#instantiates local variables\n",
    "        self.myName = name\n",
    "        self.myPet  = pet\n",
    "        \n",
    "    def introduce (self):#introduces the object by printing their name and their favorite pet\n",
    "        print (\"Hi there, I am {0} and I like {1}s!\".format(self.myName,self.myPet))\n",
    "        \n",
    "    def printMe (self): #prints the object\n",
    "        print (self)\n",
    "\n",
    "\n",
    "# put your new code here.\n",
    "name = input( \"What is your name? : \" )\n",
    "pet = input( \"What is your favorite kind of pet? : \")\n",
    "newPerson = Person (name, pet)\n",
    "newPerson.introduce()"
   ]
  },
  {
   "cell_type": "markdown",
   "metadata": {},
   "source": [
    "Your new version of _helloAgain_ should now print something that looks like this: \n",
    "\n",
    "“Hi there, I am _name_ and I like _pets_ !”\n",
    "\n",
    "replacing the italicized text with what the user entered at the command line. Note the statement uses a plural form by appending the letter s, your program should do this too.\n",
    "\n",
    "So, if you decided that your new person is named Fred, and Fred is fond of his pet aardvark, then your program would\n",
    "output:\n",
    "\n",
    "Hi there, I am Fred and I like aardvarks!\n",
    "\n",
    "Remember to save and add documentation/comments to _helloAgain_ ."
   ]
  },
  {
   "cell_type": "markdown",
   "metadata": {},
   "source": [
    "## Brief Biography Program\n",
    "Now that you’ve gotten a little experience programming and seen a few python programs, next you’ll write a program that will do the following:\n",
    "\n",
    "  - Print your full name (first and last)\n",
    "  - Print your CATS/CruzMail username\n",
    "  - Print whether your are an undergraduate or graduate student\n",
    "  - Print your major\n",
    "  - Print why you are taking this class and what you hope to get out of it\n",
    "  - What problem in molecular biology most interests you.\n",
    "  - Print your prior computer programming experience\n",
    "\n",
    "This program should NOT ask the user for this data. This data should be constants in your program. The constants should NOT be part of the person class -- use parameters that are given to your person object when it is instantiated. \n",
    "The name of the program is “myBio” and a sample execution of the program should look something like this:\n",
    "\n",
    "My name is _**David Bernick**_. <br>\n",
    "My username is _**dbernick**_. <br>\n",
    "I am a _**professor**_. <br>\n",
    "My major is _**Bioinformatics and Biomolecular Engineering**_. <br>\n",
    "_**I’m  not taking this class, but I teach it**_. <br>\n",
    "_**I am a synthetic bioengineer and I’m interested in  extreme life, especially hypertherthermophiles and hypersalinophiles, with a focus on small RNA and novel proteins from extreme viruses.**_ <br>\n",
    "I have prior programming experience using _**Python, Perl, Java, Fortran, Pascal, PL/1, ADA, Basic,TPL, APL, Assembly, and C++ (Im not very fond of this though)**_. <br>\n",
    "\n",
    "Each piece of info should occupy only a single line.\n",
    "\n",
    "In order to get full credit, the program must use attributes of the person class for each of the _**emphasized strings**_ above and contain appropriate documentation/comments. \n",
    "\n",
    "Note that in Python, *names* that are part of a class are called *attributes*. Functions that are part of a class are called *methods*. In other languages, *names* are sometimes called *variables*."
   ]
  },
  {
   "cell_type": "markdown",
   "metadata": {},
   "source": [
    "### myBio"
   ]
  },
  {
   "cell_type": "code",
   "execution_count": 46,
   "metadata": {},
   "outputs": [
    {
     "name": "stdout",
     "output_type": "stream",
     "text": [
      "My name is Marco Lanza.\n",
      "My username is mnlanza.\n",
      "I am an undergraduate student.\n",
      "My major is BME.\n",
      "I am taking this class because I want to explore if I want to major in bioinformatics and I hope to learn what can be done using bioinformatics in drug discovery.\n",
      "A molecular biology question that interests me is: How does the microbiome effect mood and the immune system?.\n",
      "I have prior programming experience using Python and Java.\n"
     ]
    }
   ],
   "source": [
    "#!/usr/bin/env python3\n",
    "# Name: Marco Lanza (mnlanza)\n",
    "# Group Members: Adrian Flores (aflor115), Noah Kirsch (nkirsch), Chris\n",
    "\n",
    "\n",
    "\"\"\"\n",
    "Build a Person object and have it introduce itself.\n",
    "\n",
    "input: a string of arbitrary length, which is used to name the new person object\n",
    "output: greeting printed to screen\n",
    "\"\"\"\n",
    "\"\"\"\n",
    "myBio: A program to introduce the user and print their brief biography.\n",
    "\"\"\"\n",
    "\n",
    "\n",
    "class Person:\n",
    "    \"\"\" Build a new Person objects with all of hte attributes given at instantiation time. \"\"\"\n",
    "    def __init__(self,name, username, studentType, major, classinterests, biologyQuestion, knownCodingLanguages):\n",
    "        \"\"\" Save all of the instance arguments. \"\"\"\n",
    "        self.myName = name\n",
    "        self.myUsername = username\n",
    "        self.myStudentType = studentType\n",
    "        self.myMajor = major\n",
    "        self.myClassInterests = classinterests\n",
    "        self.myBiologyQuestion = biologyQuestion\n",
    "        self.myKnownCodingLanguages = knownCodingLanguages\n",
    "\n",
    "    def introduce (self):\n",
    "        ''' Prints the introduction all of the object atributes '''\n",
    "        print (f\"My name is {self.myName}.\")\n",
    "        print (f\"My username is {self.myUsername}.\")\n",
    "        print (f\"I am an {self.myStudentType}.\")\n",
    "        print (f\"My major is {self.myMajor}.\")\n",
    "        print (f\"{self.myClassInterests}.\")\n",
    "        print (f\"A molecular biology question that interests me is: {self.myBiologyQuestion}.\")\n",
    "        print (f\"I have prior programming experience using {self.myKnownCodingLanguages}.\")\n",
    "\n",
    "\n",
    "\n",
    "Marco_Lanza = Person ('Marco Lanza', 'mnlanza', 'undergraduate student', 'BME', \n",
    "                      'I am taking this class because I want to explore if I want to major in bioinformatics and I hope to learn what can be done using bioinformatics in drug discovery', \n",
    "                      'How does the microbiome effect mood and the immune system?', 'Python and Java') #instantiates a charcter (me) with my attributes)\n",
    "\n",
    "Marco_Lanza.introduce() #introduces me with my attributes listed above\n",
    "\n"
   ]
  },
  {
   "cell_type": "markdown",
   "metadata": {},
   "source": [
    "## Debug buggy code\n",
    "Practice makes us better; usually debugging makes code closer to perfect. \n",
    "This program is supposed to ask the user to enter a DNA sequence and then output the AT content of the sequence— total number of As and Ts divided by the sequence length—as a fraction of the total sequence length (a number between 0 and 1).\n",
    "\n",
    "For example, given the string:\n",
    "\n",
    "AAAATGAATGGCTAACTTTTGAA\n",
    "\n",
    "the program should output: (make sure that you pay attention to the number of significant digits in the output!)\n",
    "\n",
    "AT content = 0.739\n",
    "\n",
    "Unfortunately there are a few bugs in the program. Your task is to identify and correct those bugs. This part of the assignment is to help familiarize you with the debugging process. It is possible to identify the bugs without using any of the following techniques just by looking over the program, but this will be good practice and will be essential when your code gets more complex.\n",
    "\n",
    "To debug countAT-bugs.py, run the program, which will produce an error. Figure out what the error is and correct the code. It’s likely that after you correct the first error you will notice another error. Repeat this process until you fix all the bugs and the program runs properly.\n",
    "\n",
    "Save a corrected copy of the program called countAT-bugsSoln.py that includes: \n",
    "  - Documentation and comments\n",
    "  - A program overview that includes how many bugs you found and what lines from the original file they were found at."
   ]
  },
  {
   "cell_type": "markdown",
   "metadata": {},
   "source": [
    "## countAT-bugs"
   ]
  },
  {
   "cell_type": "code",
   "execution_count": 62,
   "metadata": {},
   "outputs": [
    {
     "name": "stdin",
     "output_type": "stream",
     "text": [
      "Enter a dna sequence:  AAAATGAATGGCTAACTTTTGAA\n"
     ]
    },
    {
     "name": "stdout",
     "output_type": "stream",
     "text": [
      "AT content = 0.739\n"
     ]
    }
   ],
   "source": [
    "#!/usr/bin/env python3\n",
    "# Name: Marco Lanza (mnlanza)\n",
    "# Group Members: Adrian Flores (aflor115), Noah Kirsch (nkirsch), Chris\n",
    "\n",
    "\n",
    "'''makes a class dnaString that has a length that it can return, and a get AT function that counts \n",
    "the occurences of 'A' and 'T' and returns the occurences of A+T/the length of the string'''\n",
    "class dnaString (str):  \n",
    "    def length (self):#function that returns the length of the dnaString\n",
    "        return (len(self))\n",
    "\n",
    "    def getAT (self):#function that returns the proportion of A and T nucleotides in the dna sequence\n",
    "        num_A = self.count('A')\n",
    "        num_T = self.count(\"T\")\n",
    "        return ((num_A + num_T)/ self.length() )\n",
    "\n",
    "dna = input(\"Enter a dna sequence: \")#asks for user input of DNA sequence\n",
    "upperDNA = dna.upper() #turns all letters into uppercase for simplcity\n",
    "coolString = dnaString(upperDNA) #creates a dnaString object with the input DNA strand\n",
    "\n",
    "print (\"AT content = {0:0.3f}\".format(coolString.getAT()) ) #prints the amount of AT (proportionally) in the string to 3 digits after the decimal place"
   ]
  },
  {
   "cell_type": "markdown",
   "metadata": {},
   "source": [
    "## Counting DNA Letters \n",
    "Now that you are inspired by your ability to debug the countAT-bugs code, let's create a new program that will ask the user to enter a DNA sequence and then output the total sequence length and \n",
    "the number of each base {total As, Cs, Gs, Ts} found in the sequence. \n",
    "For example, given the string:\n",
    "\n",
    "AAAATGAATGGCTAACTTTTGAA\n",
    "\n",
    "the program should output:\n",
    "\n",
    "Your sequence is 23 nucleotides long with the following breakdown of bases:\n",
    "\n",
    "number As = 10\n",
    "number Cs = 2\n",
    "number Gs = 4\n",
    "number Ts = 7\n",
    "\n",
    "Write a program called countNucleotides (put it below) that will take in a DNA sequence entered by a user and produce the outputs specified above. Note that \"specified\" means ... \"required\"\n",
    "\n",
    "To get full credit on this assignment, your code needs to:\n",
    "\n",
    "  * Run properly\n",
    "  * Contain documentation/comments\n",
    "  * Include an overview about what your program is designed to do with expected inputs and outputs. Use a MarkDown Cell to write your overview."
   ]
  },
  {
   "cell_type": "markdown",
   "metadata": {},
   "source": [
    "### countNucleotides"
   ]
  },
  {
   "cell_type": "code",
   "execution_count": 50,
   "metadata": {},
   "outputs": [
    {
     "name": "stdin",
     "output_type": "stream",
     "text": [
      "Enter a dna sequence:  AAAATGAATGGCTAACTTTTGAA\n"
     ]
    },
    {
     "name": "stdout",
     "output_type": "stream",
     "text": [
      "Your sequence is 23 nucleotides long with the following breakdown of bases:\n",
      "number As = 10 number Cs = 2 number Gs = 4 number Ts = 7\n"
     ]
    }
   ],
   "source": [
    "#!/usr/bin/env python3\n",
    "# Name: Marco Lanza (mnlanza)\n",
    "# Group Members: Adrian Flores (aflor115), Noah Kirsch (nkirsch), Chris\n",
    "\n",
    "class dnaString (str): #instantiates the dnaString class\n",
    "    def length (self):#function so self.length can be run to determine the length of the sequence\n",
    "        return (len(self))\n",
    "\n",
    "    def getAT (self):# returns the decimal amount of A and T nucleotides out of 1 (length of the string)\n",
    "        num_A = self.count('A')\n",
    "        num_T = self.count(\"T\")\n",
    "        return ((num_A + num_T)/ self.len() )\n",
    "    def countNucleotideA (self): # returns the amoung of A nucleotide bases in the inputted string\n",
    "        num_A = self.count('A')\n",
    "        return num_A\n",
    "    def countNucleotideT (self):# returns the amoung of T nucleotide bases in the inputted string\n",
    "        num_T = self.count('T')\n",
    "        return num_T\n",
    "    def countNucleotideG (self):# returns the amoung of G nucleotide bases in the inputted string\n",
    "        num_G = self.count('G')\n",
    "        return num_G\n",
    "    def countNucleotideC (self):# returns the amoung of C nucleotide bases in the inputted string\n",
    "        num_C = self.count('C')\n",
    "        return num_C\n",
    "\n",
    "dna = input(\"Enter a dna sequence: \")#asks the user to input a DNA sequence\n",
    "upperDNA = dna.upper()#formats input to all uppercase for easier processing\n",
    "coolString = dnaString(upperDNA)#instantiates a dnaString object called coolString, with the formatted input dna sequence\n",
    "\n",
    "print(f'Your sequence is {coolString.length()} nucleotides long with the following breakdown of bases:') #prints the amount of necleotides in the inputted string\n",
    "print (\"number As = {} number Cs = {} number Gs = {} number Ts = {}\".format(\n",
    "    coolString.countNucleotideA(), \n",
    "    coolString.countNucleotideC(),\n",
    "    coolString.countNucleotideG(),\n",
    "    coolString.countNucleotideT(),\n",
    "    \n",
    ") #prints the amounf of each nucleotide in the inputted string\n",
    "      )"
   ]
  },
  {
   "cell_type": "markdown",
   "metadata": {},
   "source": [
    "## Submit your code and answers\n",
    "Important: please save your work before logging out of the computer. This will ensure that you have a copy of your work and you will avoid having to redo everything in the event that something happens. The two recommended solutions (pick one) at this point are to:\n",
    "\n",
    "  - Email your jupyter notebook to yourself\n",
    "  - Copy your notebook to a pen drive\n",
    "  \n",
    "The class will be using canvas to submit the notebook created as part of this lab assignment.\n",
    "\n",
    "For this lab, you should upload your notebook with the following cells filled in\n",
    "\n",
    "  * helloMe 4 points\n",
    "  * helloAgain 5 points\n",
    "  * myBio 6 points\n",
    "  * countAT-bugsSoln 9 points\n",
    "  * countNucleotides 6 points \n",
    "\n",
    "Important: to get full credit on this lab assignment, everything needs to\n",
    "\n",
    "  * Run properly\n",
    "  * Contain informative documentation/comment, including your name and your partner\n",
    "  * be your own work\n",
    "\n",
    "Congratulations, you finished your first lab assignment!\n"
   ]
  },
  {
   "cell_type": "code",
   "execution_count": 40,
   "metadata": {},
   "outputs": [
    {
     "name": "stdout",
     "output_type": "stream",
     "text": [
      "CGGATGTTA\n"
     ]
    }
   ],
   "source": [
    "s = \"CGGATGTTA\"\n",
    "\n",
    "print(s[:])\n",
    "\n"
   ]
  },
  {
   "cell_type": "markdown",
   "metadata": {
    "nteract": {
     "transient": {
      "deleting": false
     }
    }
   },
   "source": [
    "# Inspection results ( Who and When )\n",
    "\n",
    "What did your inspection team have to say about the work and who are they? Did you discuss the many coding choices that are available, even in a beginning assignment like this? What did you decide to do as a result of the inspection?\n"
   ]
  },
  {
   "cell_type": "markdown",
   "metadata": {},
   "source": [
    "# Inspection Results (Noah Kirsch + group, 1/13/2025)\n",
    "\n",
    "countATbugs - The count for this one has an error calling the length function at a certain point. Need a adjustments with this function for the program to run without error. -> fixed (it was a problem with having a comment in a line of code the defined a functioned, so moved it to above the function.\n",
    "\n",
    "countNucleotides - This program works perfectly! No complaints.\n",
    "\n",
    "Checked by Tal Sharf on 1/13/2025"
   ]
  }
 ],
 "metadata": {
  "kernelspec": {
   "display_name": "Python [conda env:base] *",
   "language": "python",
   "name": "conda-base-py"
  },
  "language_info": {
   "codemirror_mode": {
    "name": "ipython",
    "version": 3
   },
   "file_extension": ".py",
   "mimetype": "text/x-python",
   "name": "python",
   "nbconvert_exporter": "python",
   "pygments_lexer": "ipython3",
   "version": "3.12.7"
  },
  "nteract": {
   "version": "0.28.0"
  }
 },
 "nbformat": 4,
 "nbformat_minor": 4
}
